{
  "nbformat": 4,
  "nbformat_minor": 0,
  "metadata": {
    "colab": {
      "provenance": [],
      "gpuType": "T4"
    },
    "kernelspec": {
      "name": "python3",
      "display_name": "Python 3"
    },
    "language_info": {
      "name": "python"
    },
    "accelerator": "GPU"
  },
  "cells": [
    {
      "cell_type": "code",
      "execution_count": null,
      "metadata": {
        "id": "fgBEEhkrpOTC"
      },
      "outputs": [],
      "source": [
        "import numpy as np"
      ]
    },
    {
      "cell_type": "code",
      "source": [
        "import tensorflow as tf"
      ],
      "metadata": {
        "id": "CVroYKeQpWQ0"
      },
      "execution_count": null,
      "outputs": []
    },
    {
      "cell_type": "code",
      "source": [
        "!nvidia-smi  #configuration of GPU"
      ],
      "metadata": {
        "colab": {
          "base_uri": "https://localhost:8080/"
        },
        "id": "GX4Tov4cpg71",
        "outputId": "85076325-03e7-4e39-dc4b-1ec259e369aa"
      },
      "execution_count": null,
      "outputs": [
        {
          "output_type": "stream",
          "name": "stdout",
          "text": [
            "Mon Apr  7 14:27:29 2025       \n",
            "+-----------------------------------------------------------------------------------------+\n",
            "| NVIDIA-SMI 550.54.15              Driver Version: 550.54.15      CUDA Version: 12.4     |\n",
            "|-----------------------------------------+------------------------+----------------------+\n",
            "| GPU  Name                 Persistence-M | Bus-Id          Disp.A | Volatile Uncorr. ECC |\n",
            "| Fan  Temp   Perf          Pwr:Usage/Cap |           Memory-Usage | GPU-Util  Compute M. |\n",
            "|                                         |                        |               MIG M. |\n",
            "|=========================================+========================+======================|\n",
            "|   0  Tesla T4                       Off |   00000000:00:04.0 Off |                    0 |\n",
            "| N/A   56C    P8             10W /   70W |       0MiB /  15360MiB |      0%      Default |\n",
            "|                                         |                        |                  N/A |\n",
            "+-----------------------------------------+------------------------+----------------------+\n",
            "                                                                                         \n",
            "+-----------------------------------------------------------------------------------------+\n",
            "| Processes:                                                                              |\n",
            "|  GPU   GI   CI        PID   Type   Process name                              GPU Memory |\n",
            "|        ID   ID                                                               Usage      |\n",
            "|=========================================================================================|\n",
            "|  No running processes found                                                             |\n",
            "+-----------------------------------------------------------------------------------------+\n"
          ]
        }
      ]
    },
    {
      "cell_type": "markdown",
      "source": [
        "! to run shell commands\n",
        "%% for cell magics (affect the whole cell)"
      ],
      "metadata": {
        "id": "BifhH2ZJyZuW"
      }
    },
    {
      "cell_type": "code",
      "source": [
        "%%writefile hello.c\n",
        "#include <stdio.h>\n",
        "#include <omp.h>\n",
        "\n",
        "int main() {\n",
        "    #pragma omp parallel\n",
        "    {\n",
        "        printf(\"Hello from thread %d\\n\", omp_get_thread_num());\n",
        "\n",
        "\n",
        "    }\n",
        "    return 0;\n",
        "}"
      ],
      "metadata": {
        "colab": {
          "base_uri": "https://localhost:8080/"
        },
        "id": "GI3UbvZ6rl5O",
        "outputId": "fe5f64ce-2517-4d0f-df84-b459a04a4a49"
      },
      "execution_count": null,
      "outputs": [
        {
          "output_type": "stream",
          "name": "stdout",
          "text": [
            "Writing hello.c\n"
          ]
        }
      ]
    },
    {
      "cell_type": "code",
      "source": [
        "!gcc -fopenmp hello.c -o hello"
      ],
      "metadata": {
        "id": "JMxQCWeCqGcE"
      },
      "execution_count": null,
      "outputs": []
    },
    {
      "cell_type": "code",
      "source": [
        "!./hello"
      ],
      "metadata": {
        "colab": {
          "base_uri": "https://localhost:8080/"
        },
        "id": "oS0PKd5zsVky",
        "outputId": "8f811fe4-bd65-470e-89b5-b03d9c30278d"
      },
      "execution_count": null,
      "outputs": [
        {
          "output_type": "stream",
          "name": "stdout",
          "text": [
            "/bin/bash: line 1: ./hello: No such file or directory\n"
          ]
        }
      ]
    },
    {
      "cell_type": "code",
      "source": [
        "%%writefile hello.c\n",
        "#include <stdio.h>\n",
        "#include <omp.h>\n",
        "\n",
        "int main() {\n",
        "    omp_set_num_threads(4);  // Set number of threads to 4\n",
        "\n",
        "    #pragma omp parallel\n",
        "    {\n",
        "        printf(\"Hello from thread %d\\n\", omp_get_thread_num());\n",
        "    }\n",
        "\n",
        "    return 0;\n",
        "}\n"
      ],
      "metadata": {
        "colab": {
          "base_uri": "https://localhost:8080/"
        },
        "id": "PmNa9kiN01no",
        "outputId": "be323e35-e456-4f91-f57f-767730366fd6"
      },
      "execution_count": null,
      "outputs": [
        {
          "output_type": "stream",
          "name": "stdout",
          "text": [
            "Writing hello.c\n"
          ]
        }
      ]
    },
    {
      "cell_type": "code",
      "source": [
        "!gcc -fopenmp hello.c -o hello #compile"
      ],
      "metadata": {
        "id": "lBEF7Y2e07d1"
      },
      "execution_count": null,
      "outputs": []
    },
    {
      "cell_type": "code",
      "source": [
        "!./hello #run the code"
      ],
      "metadata": {
        "colab": {
          "base_uri": "https://localhost:8080/"
        },
        "id": "bMCvHGpB0_uk",
        "outputId": "ed94d460-1759-4500-8e8e-7907e55c4bdc"
      },
      "execution_count": null,
      "outputs": [
        {
          "output_type": "stream",
          "name": "stdout",
          "text": [
            "Hello from thread 1\n",
            "Hello from thread 3\n",
            "Hello from thread 2\n",
            "Hello from thread 0\n"
          ]
        }
      ]
    },
    {
      "cell_type": "code",
      "source": [
        "!lscpu | grep '^CPU(s):' #to get number of cores\n"
      ],
      "metadata": {
        "colab": {
          "base_uri": "https://localhost:8080/"
        },
        "id": "jc1hY7f81l18",
        "outputId": "19bf4adf-45f8-4dc5-b6a2-0df24a825e12"
      },
      "execution_count": null,
      "outputs": [
        {
          "output_type": "stream",
          "name": "stdout",
          "text": [
            "CPU(s):                               2\n"
          ]
        }
      ]
    },
    {
      "cell_type": "code",
      "source": [
        "import os  #alternate method to know numbe of cores\n",
        "os.cpu_count()\n"
      ],
      "metadata": {
        "colab": {
          "base_uri": "https://localhost:8080/"
        },
        "id": "QdDI_mOO1ru7",
        "outputId": "a5e8bf31-daba-4e99-ca5d-7471cd409339"
      },
      "execution_count": null,
      "outputs": [
        {
          "output_type": "execute_result",
          "data": {
            "text/plain": [
              "2"
            ]
          },
          "metadata": {},
          "execution_count": 5
        }
      ]
    },
    {
      "cell_type": "code",
      "source": [
        "%%writefile hello_openmp.c\n",
        "#include <stdio.h>\n",
        "#include <omp.h>\n",
        "\n",
        "int main()\n",
        "{\n",
        "\n",
        "    #pragma omp parallel\n",
        "    {\n",
        "                int ID = omp_get_thread_num(); //Assigned once per thread\n",
        "        printf(\"hello(%d)\", ID); // Uses the thread's ID\n",
        "        printf(\"world(%d) \\n\", ID); //Uses the same ID\n",
        "    }\n",
        "    return 0;\n",
        "\n",
        "}\n"
      ],
      "metadata": {
        "colab": {
          "base_uri": "https://localhost:8080/"
        },
        "id": "rB6Cea_0slJg",
        "outputId": "bdbfab9b-6a6f-4f0c-b964-15bac1483322"
      },
      "execution_count": null,
      "outputs": [
        {
          "output_type": "stream",
          "name": "stdout",
          "text": [
            "Overwriting hello_openmp.c\n"
          ]
        }
      ]
    },
    {
      "cell_type": "code",
      "source": [
        "!gcc -fopenmp hello_openmp.c -o hello_openmp"
      ],
      "metadata": {
        "id": "zbTYiMpns1Pm"
      },
      "execution_count": null,
      "outputs": []
    },
    {
      "cell_type": "code",
      "source": [
        "!./hello_openmp"
      ],
      "metadata": {
        "colab": {
          "base_uri": "https://localhost:8080/"
        },
        "id": "M02TcIuts44J",
        "outputId": "9ac58e03-f082-4b2b-eb67-3f086af55e8c"
      },
      "execution_count": null,
      "outputs": [
        {
          "output_type": "stream",
          "name": "stdout",
          "text": [
            "hello(1)world(1) \n",
            "hello(0)world(0) \n"
          ]
        }
      ]
    },
    {
      "cell_type": "code",
      "source": [
        "%%writefile shared_var.c\n",
        "#include <stdio.h>\n",
        "#include <omp.h>\n",
        "\n",
        "int main() {\n",
        "    int sharedVar = 0;\n",
        "\n",
        "    #pragma omp parallel shared(sharedVar)\n",
        "    {\n",
        "        #pragma omp critical\n",
        "        sharedVar += 1;\n",
        "    }\n",
        "\n",
        "    printf(\"Final value of sharedVar: %d\\n\", sharedVar);\n",
        "    return 0;\n",
        "}"
      ],
      "metadata": {
        "colab": {
          "base_uri": "https://localhost:8080/"
        },
        "id": "sU8X7NlvtJqk",
        "outputId": "458e0e0b-bcdf-42a8-9b74-c0b74322b7cf"
      },
      "execution_count": null,
      "outputs": [
        {
          "output_type": "stream",
          "name": "stdout",
          "text": [
            "Writing shared_var.c\n"
          ]
        }
      ]
    },
    {
      "cell_type": "code",
      "source": [
        "%%writefile shared_var.c\n",
        "#include <stdio.h>\n",
        "#include <omp.h>\n",
        "\n",
        "int main() {\n",
        "    omp_set_num_threads(100);\n",
        "    int sharedVar = 0;\n",
        "\n",
        "    #pragma omp parallel shared(sharedVar)\n",
        "    {\n",
        "         #pragma omp critical\n",
        "        sharedVar += 1;\n",
        "    }\n",
        "\n",
        "    printf(\"Final value of sharedVar: %d\\n\", sharedVar);\n",
        "    return 0;\n",
        "}"
      ],
      "metadata": {
        "colab": {
          "base_uri": "https://localhost:8080/"
        },
        "id": "o9jvb-Rfok4x",
        "outputId": "e06bfd9b-de6f-4b2c-de13-2c8baf5b253b"
      },
      "execution_count": null,
      "outputs": [
        {
          "output_type": "stream",
          "name": "stdout",
          "text": [
            "Overwriting shared_var.c\n"
          ]
        }
      ]
    },
    {
      "cell_type": "code",
      "source": [
        "!gcc -fopenmp shared_var.c -o shared_var"
      ],
      "metadata": {
        "id": "J3Kv-DbntMLS"
      },
      "execution_count": null,
      "outputs": []
    },
    {
      "cell_type": "code",
      "source": [
        "!./shared_var"
      ],
      "metadata": {
        "colab": {
          "base_uri": "https://localhost:8080/"
        },
        "id": "OHXZx0-RtQYd",
        "outputId": "8753ff23-139d-4b63-d47e-454f2a491061"
      },
      "execution_count": null,
      "outputs": [
        {
          "output_type": "stream",
          "name": "stdout",
          "text": [
            "Final value of sharedVar: 100\n"
          ]
        }
      ]
    },
    {
      "cell_type": "code",
      "source": [
        "%%writefile matrix_addition.c\n",
        "#include <stdio.h>\n",
        "#include <omp.h>\n",
        "\n",
        "#define N 3\n",
        "\n",
        "int main() {\n",
        "    int A[N][N] = {{1, 2, 3}, {4, 5, 6}, {7, 8, 9}};\n",
        "    int B[N][N] = {{9, 8, 7}, {6, 5, 4}, {3, 2, 1}};\n",
        "    int C[N][N];\n",
        "\n",
        "    #pragma omp parallel for collapse(2)\n",
        "    for (int i = 0; i < N; i++) {\n",
        "        for (int j = 0; j < N; j++) {\n",
        "            C[i][j] = A[i][j] + B[i][j];\n",
        "        }\n",
        "    }\n",
        "\n",
        "    printf(\"Resultant Matrix:\\n\");\n",
        "    for (int i = 0; i < N; i++) {\n",
        "        for (int j = 0; j < N; j++) {\n",
        "            printf(\"%d \", C[i][j]);\n",
        "        }\n",
        "        printf(\"\\n\");\n",
        "    }\n",
        "\n",
        "    return 0;\n",
        "}\n"
      ],
      "metadata": {
        "colab": {
          "base_uri": "https://localhost:8080/"
        },
        "id": "zY8l99i_teGv",
        "outputId": "5580c0d3-dfb5-4ab4-9760-56b42079f439"
      },
      "execution_count": null,
      "outputs": [
        {
          "output_type": "stream",
          "name": "stdout",
          "text": [
            "Writing matrix_addition.c\n"
          ]
        }
      ]
    },
    {
      "cell_type": "code",
      "source": [
        "!gcc -fopenmp matrix_addition.c -o matrix_addition\n"
      ],
      "metadata": {
        "id": "o3n53nc-tfSi"
      },
      "execution_count": null,
      "outputs": []
    },
    {
      "cell_type": "code",
      "source": [
        "!./matrix_addition\n"
      ],
      "metadata": {
        "colab": {
          "base_uri": "https://localhost:8080/"
        },
        "id": "PapMKL-hth01",
        "outputId": "010b6c83-252c-4f86-f603-2e7d3928cec4"
      },
      "execution_count": null,
      "outputs": [
        {
          "output_type": "stream",
          "name": "stdout",
          "text": [
            "Resultant Matrix:\n",
            "10 10 10 \n",
            "10 10 10 \n",
            "10 10 10 \n"
          ]
        }
      ]
    },
    {
      "cell_type": "code",
      "source": [
        "%%writefile matrix_add_timed.c\n",
        "#include <stdio.h>\n",
        "#include <omp.h>\n",
        "\n",
        "#define N 3\n",
        "\n",
        "int main() {\n",
        "    int A[N][N] = {{1, 2, 3}, {4, 5, 6}, {7, 8, 9}};\n",
        "    int B[N][N] = {{9, 8, 7}, {6, 5, 4}, {3, 2, 1}};\n",
        "    int C[N][N];\n",
        "\n",
        "    double start_time = omp_get_wtime();  // Start timer-wall clocktime\n",
        "\n",
        "    // Matrix addition (currently serial)\n",
        "    for (int i = 0; i < N; i++) {\n",
        "        for (int j = 0; j < N; j++) {\n",
        "            C[i][j] = A[i][j] + B[i][j];\n",
        "        }\n",
        "    }\n",
        "\n",
        "    printf(\"Resultant Matrix:\\n\");\n",
        "    for (int i = 0; i < N; i++) {\n",
        "        for (int j = 0; j < N; j++) {\n",
        "            printf(\"%d \", C[i][j]);\n",
        "        }\n",
        "        printf(\"\\n\");\n",
        "    }\n",
        "\n",
        "    double end_time = omp_get_wtime();  // End timer\n",
        "    printf(\"Execution Time = %f seconds\\n\", end_time - start_time);\n",
        "\n",
        "    return 0;\n",
        "}\n"
      ],
      "metadata": {
        "colab": {
          "base_uri": "https://localhost:8080/"
        },
        "id": "u6LDsqBwt6Jk",
        "outputId": "99d75838-e695-4ff4-ec32-90a6ddcafe73"
      },
      "execution_count": null,
      "outputs": [
        {
          "output_type": "stream",
          "name": "stdout",
          "text": [
            "Writing matrix_add_timed.c\n"
          ]
        }
      ]
    },
    {
      "cell_type": "code",
      "source": [
        "!gcc -fopenmp matrix_add_timed.c -o matrix_add_timed\n"
      ],
      "metadata": {
        "id": "5nek3g22t7BE"
      },
      "execution_count": null,
      "outputs": []
    },
    {
      "cell_type": "code",
      "source": [
        "!./matrix_add_timed\n"
      ],
      "metadata": {
        "colab": {
          "base_uri": "https://localhost:8080/"
        },
        "id": "QYjP0RC0t978",
        "outputId": "b811e04d-7dcf-4257-cecb-1d0bb6f0426b"
      },
      "execution_count": null,
      "outputs": [
        {
          "output_type": "stream",
          "name": "stdout",
          "text": [
            "Resultant Matrix:\n",
            "10 10 10 \n",
            "10 10 10 \n",
            "10 10 10 \n",
            "Execution Time = 0.000046 seconds\n"
          ]
        }
      ]
    },
    {
      "cell_type": "code",
      "source": [
        "%%writefile parallel_sum.c\n",
        "#include <stdio.h>\n",
        "#include <omp.h>\n",
        "#define SIZE 1000000\n",
        "\n",
        "int main() {\n",
        "    int i;\n",
        "    double sum = 0.0;\n",
        "    double array[SIZE];\n",
        "\n",
        "    // Initialize array with values\n",
        "    for (i = 0; i < SIZE; i++) {\n",
        "        array[i] = 1.0; // Simple case where sum = SIZE\n",
        "    }\n",
        "\n",
        "    double start_time = omp_get_wtime();  // Start timer\n",
        "\n",
        "    #pragma omp parallel for reduction(+:sum)\n",
        "    for (i = 0; i < SIZE; i++) {\n",
        "        sum += array[i];\n",
        "    }\n",
        "\n",
        "    double end_time = omp_get_wtime();    // End timer\n",
        "\n",
        "    printf(\"Sum = %.2f\\n\", sum);\n",
        "    printf(\"Execution Time = %f seconds\\n\", end_time - start_time);\n",
        "\n",
        "    return 0;\n",
        "}\n"
      ],
      "metadata": {
        "colab": {
          "base_uri": "https://localhost:8080/"
        },
        "id": "3gbyK4DquGjU",
        "outputId": "435e4e1d-9900-4949-a738-43d477a9bc61"
      },
      "execution_count": null,
      "outputs": [
        {
          "output_type": "stream",
          "name": "stdout",
          "text": [
            "Writing parallel_sum.c\n"
          ]
        }
      ]
    },
    {
      "cell_type": "code",
      "source": [
        "!gcc -fopenmp parallel_sum.c -o parallel_sum\n"
      ],
      "metadata": {
        "id": "AGlXKxHVuJKu"
      },
      "execution_count": null,
      "outputs": []
    },
    {
      "cell_type": "code",
      "source": [],
      "metadata": {
        "id": "H0e7MrzdbdML"
      },
      "execution_count": null,
      "outputs": []
    },
    {
      "cell_type": "code",
      "source": [
        "!./parallel_sum\n"
      ],
      "metadata": {
        "colab": {
          "base_uri": "https://localhost:8080/"
        },
        "id": "vobB_3Q2uLPI",
        "outputId": "e99c8b85-57b5-4d22-ed25-2fa20e3341dc"
      },
      "execution_count": null,
      "outputs": [
        {
          "output_type": "stream",
          "name": "stdout",
          "text": [
            "Sum = 1000000.00\n",
            "Execution Time = 0.001926 seconds\n"
          ]
        }
      ]
    },
    {
      "cell_type": "code",
      "source": [
        "%%writefile shared_var_critical.c\n",
        "#include <stdio.h>\n",
        "#include <omp.h>\n",
        "\n",
        "int main() {\n",
        "    int sharedVar = 0;\n",
        "\n",
        "    // Optional: Set number of threads\n",
        "    omp_set_num_threads(8);  // You can change this value\n",
        "\n",
        "    #pragma omp parallel shared(sharedVar)\n",
        "    {\n",
        "        #pragma omp critical\n",
        "        sharedVar += 1;\n",
        "    }\n",
        "\n",
        "    printf(\"Final value of sharedVar: %d\\n\", sharedVar);\n",
        "    return 0;\n",
        "}\n",
        "\n"
      ],
      "metadata": {
        "colab": {
          "base_uri": "https://localhost:8080/"
        },
        "id": "7SMamp8zu25l",
        "outputId": "1d90cadb-939a-4deb-f9a5-73a86c58257e"
      },
      "execution_count": null,
      "outputs": [
        {
          "output_type": "stream",
          "name": "stdout",
          "text": [
            "Overwriting shared_var_critical.c\n"
          ]
        }
      ]
    },
    {
      "cell_type": "code",
      "source": [
        "!gcc -fopenmp shared_var_critical.c -o shared_var_critical\n",
        "\n",
        "\n"
      ],
      "metadata": {
        "id": "8l4Pp5H0u4Gv"
      },
      "execution_count": null,
      "outputs": []
    },
    {
      "cell_type": "code",
      "source": [
        "!./shared_var_critical\n"
      ],
      "metadata": {
        "colab": {
          "base_uri": "https://localhost:8080/"
        },
        "id": "RHX_dkaEu6F9",
        "outputId": "75828508-d16f-4d26-af84-d04d1828538b"
      },
      "execution_count": null,
      "outputs": [
        {
          "output_type": "stream",
          "name": "stdout",
          "text": [
            "Final value of sharedVar: 8\n"
          ]
        }
      ]
    },
    {
      "cell_type": "code",
      "source": [
        "%%writefile omp_single_example.c\n",
        "#include <stdio.h>\n",
        "#include <omp.h>\n",
        "\n",
        "void add(int a, int b, int *result) {\n",
        "    #pragma omp parallel\n",
        "    {\n",
        "        #pragma omp single\n",
        "        {\n",
        "        *result = a + b;\n",
        "        }\n",
        "}\n",
        "}\n",
        "\n",
        "int main() {\n",
        "    int x = 5, y = 10, sum = 0;\n",
        "    add(x, y, &sum);\n",
        "    printf(\"Sum: %d\\n\", sum);\n",
        "    return 0;\n",
        "}\n"
      ],
      "metadata": {
        "colab": {
          "base_uri": "https://localhost:8080/"
        },
        "id": "UZCyz8AgvS8e",
        "outputId": "db272413-cb1f-416d-f6b4-d30d0e29cf8f"
      },
      "execution_count": null,
      "outputs": [
        {
          "output_type": "stream",
          "name": "stdout",
          "text": [
            "Overwriting omp_single_example.c\n"
          ]
        }
      ]
    },
    {
      "cell_type": "code",
      "source": [
        "!gcc -fopenmp omp_single_example.c -o omp_single_example\n"
      ],
      "metadata": {
        "id": "x2YxNm9Fviyl"
      },
      "execution_count": null,
      "outputs": []
    },
    {
      "cell_type": "code",
      "source": [
        "!./omp_single_example\n"
      ],
      "metadata": {
        "colab": {
          "base_uri": "https://localhost:8080/"
        },
        "id": "7jCatjFRvlSm",
        "outputId": "3275f8ec-54bf-40e2-f93e-5f103bd14cf2"
      },
      "execution_count": null,
      "outputs": [
        {
          "output_type": "stream",
          "name": "stdout",
          "text": [
            "Sum: 15\n"
          ]
        }
      ]
    },
    {
      "cell_type": "code",
      "source": [
        "%%writefile modified.c\n",
        "#include <stdio.h>\n",
        "#include <omp.h>\n",
        "\n",
        "void modify(int a) {\n",
        "    #pragma omp parallel\n",
        "    {\n",
        "        // Each thread will print its own copy of 'a'\n",
        "        printf(\"Thread %d: Original a = %d\\n\", omp_get_thread_num(), a);\n",
        "        // Modify 'a' inside the thread\n",
        "        a += 10;\n",
        "        // Show modified value (thread-local)\n",
        "        printf(\"Thread %d: Modified a = %d\\n\", omp_get_thread_num(), a);\n",
        "    }\n",
        "}\n",
        "\n",
        "int main() {\n",
        "    int x = 5;\n",
        "    modify(x);\n",
        "    printf(\"Back in main: x = %d\\n\", x); // Still 5\n",
        "    return 0;\n",
        "}\n"
      ],
      "metadata": {
        "colab": {
          "base_uri": "https://localhost:8080/"
        },
        "id": "0Zy7OLQU6_sP",
        "outputId": "6fcd1892-8e6e-453a-a5f8-6d1b7b375507"
      },
      "execution_count": null,
      "outputs": [
        {
          "output_type": "stream",
          "name": "stdout",
          "text": [
            "Writing modified.c\n"
          ]
        }
      ]
    },
    {
      "cell_type": "code",
      "source": [
        "!gcc -fopenmp modified.c -o output"
      ],
      "metadata": {
        "id": "leAAO_gs7Rja"
      },
      "execution_count": null,
      "outputs": []
    },
    {
      "cell_type": "code",
      "source": [
        "!./output"
      ],
      "metadata": {
        "colab": {
          "base_uri": "https://localhost:8080/"
        },
        "id": "FqxqMKeB7Yz1",
        "outputId": "fc96674e-96bf-4448-b36b-cf18ce97d6b6"
      },
      "execution_count": null,
      "outputs": [
        {
          "output_type": "stream",
          "name": "stdout",
          "text": [
            "Thread 0: Original a = 5\n",
            "Thread 0: Modified a = 15\n",
            "Thread 1: Original a = 5\n",
            "Thread 1: Modified a = 25\n",
            "Back in main: x = 5\n"
          ]
        }
      ]
    },
    {
      "cell_type": "code",
      "source": [
        "%%writefile newfile.c\n",
        "#include <stdio.h>\n",
        "#include <omp.h>\n",
        "\n",
        "void add(int a, int b, int *result) {\n",
        "    #pragma omp parallel\n",
        "    {\n",
        "        printf(\"Thread %d: Inside parallel region\\n\", omp_get_thread_num());\n",
        "\n",
        "        // All threads execute this\n",
        "        *result = a + b;\n",
        "        a=a+10;\n",
        "        b=b+10;\n",
        "        printf(\"Thread %d: Calculated result = %d\\n\", omp_get_thread_num(), *result);\n",
        "    }\n",
        "}\n",
        "\n",
        "int main() {\n",
        "    int x = 5, y = 10, sum = 0;\n",
        "    add(x, y, &sum);\n",
        "    printf(\"Back in main: sum = %d\\n\", sum);\n",
        "    return 0;\n",
        "}\n"
      ],
      "metadata": {
        "colab": {
          "base_uri": "https://localhost:8080/"
        },
        "id": "LZvhXsuV8PuZ",
        "outputId": "b428e39b-2786-409e-ac74-ad7dc4902654"
      },
      "execution_count": null,
      "outputs": [
        {
          "output_type": "stream",
          "name": "stdout",
          "text": [
            "Overwriting newfile.c\n"
          ]
        }
      ]
    },
    {
      "cell_type": "code",
      "source": [
        "!gcc -fopenmp newfile.c -o output1"
      ],
      "metadata": {
        "id": "PJ5x5OT58WNA"
      },
      "execution_count": null,
      "outputs": []
    },
    {
      "cell_type": "code",
      "source": [
        "!./output1"
      ],
      "metadata": {
        "colab": {
          "base_uri": "https://localhost:8080/"
        },
        "id": "cffQlMnG8fT4",
        "outputId": "ca90a4cd-5305-4ea9-a057-5d113c52911d"
      },
      "execution_count": null,
      "outputs": [
        {
          "output_type": "stream",
          "name": "stdout",
          "text": [
            "Thread 0: Inside parallel region\n",
            "Thread 0: Calculated result = 15\n",
            "Thread 1: Inside parallel region\n",
            "Thread 1: Calculated result = 35\n",
            "Back in main: sum = 35\n"
          ]
        }
      ]
    },
    {
      "cell_type": "code",
      "source": [
        "%%writefile example.c\n",
        "#include <stdio.h>\n",
        "#include <omp.h>\n",
        "\n",
        "int main() {\n",
        "    #pragma omp parallel\n",
        "    {\n",
        "        #pragma omp critical\n",
        "        {\n",
        "            // Every thread prints (one at a time)\n",
        "            printf(\"In critical by thread %d\\n\", omp_get_thread_num());\n",
        "        }\n",
        "\n",
        "        #pragma omp single\n",
        "        {\n",
        "            // Only one thread prints this\n",
        "            printf(\"In single by thread %d\\n\", omp_get_thread_num());\n",
        "        }\n",
        "    }\n",
        "    return 0;\n",
        "}\n"
      ],
      "metadata": {
        "colab": {
          "base_uri": "https://localhost:8080/"
        },
        "id": "XsL3t3PInw46",
        "outputId": "c920fb8c-622e-455f-a1a0-801a8fe25ec5"
      },
      "execution_count": null,
      "outputs": [
        {
          "output_type": "stream",
          "name": "stdout",
          "text": [
            "Overwriting example.c\n"
          ]
        }
      ]
    },
    {
      "cell_type": "code",
      "source": [
        "!gcc -fopenmp example.c -o output2"
      ],
      "metadata": {
        "id": "C0IW_Honn3We"
      },
      "execution_count": null,
      "outputs": []
    },
    {
      "cell_type": "code",
      "source": [
        "!./output2"
      ],
      "metadata": {
        "colab": {
          "base_uri": "https://localhost:8080/"
        },
        "id": "AbVqXhw4n8xT",
        "outputId": "bdb6a52c-0d21-4b00-eb50-2b359ce48b68"
      },
      "execution_count": null,
      "outputs": [
        {
          "output_type": "stream",
          "name": "stdout",
          "text": [
            "In critical by thread 0\n",
            "In critical by thread 1\n",
            "In single by thread 0\n"
          ]
        }
      ]
    }
  ]
}